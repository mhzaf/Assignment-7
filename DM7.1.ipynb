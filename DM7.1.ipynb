{
  "nbformat": 4,
  "nbformat_minor": 0,
  "metadata": {
    "colab": {
      "name": "Untitled6.ipynb",
      "provenance": [],
      "authorship_tag": "ABX9TyORCe0k1DZzXL/fJraiinCn",
      "include_colab_link": true
    },
    "kernelspec": {
      "name": "python3",
      "display_name": "Python 3"
    },
    "language_info": {
      "name": "python"
    }
  },
  "cells": [
    {
      "cell_type": "markdown",
      "metadata": {
        "id": "view-in-github",
        "colab_type": "text"
      },
      "source": [
        "<a href=\"https://colab.research.google.com/github/mhzaf/Assignment-7/blob/main/DM7.1.ipynb\" target=\"_parent\"><img src=\"https://colab.research.google.com/assets/colab-badge.svg\" alt=\"Open In Colab\"/></a>"
      ]
    },
    {
      "cell_type": "code",
      "metadata": {
        "colab": {
          "base_uri": "https://localhost:8080/",
          "height": 154
        },
        "id": "Xoyl4ogLLLbg",
        "outputId": "fb0c97e4-af1e-4395-c6e4-9508b41ddacd"
      },
      "source": [
        "import numpy as np\n",
        "\n",
        "def forwardPass(inputs, weight, bias, activation = 'linear'):\n",
        "\tw_sum = np.dot(inputs, weight) + bias\n",
        "\n",
        "\tif activation is 'relu' :\n",
        "\t\t# ReLU Activation f(x) = max(0, x)\n",
        "\t\tact = np.maximum(w_sum, 0)\n",
        "\telse :\n",
        "\t\t# Linear Activation f(x) = x\n",
        "\t\tact = w_sum\n",
        "\n",
        "\treturn act\n",
        "\n",
        "# Pre-Trained Weights & Biases after Training\n",
        "W = np.array([[2.99999928]])\n",
        "b = np.array([1.99999976])\n",
        "\n",
        "# Initialize Input Data\n",
        "inputs = np.array([[7], [8], [9], [10]])\n",
        "\n",
        "# Output of Output Layer\n",
        "o_out = forwardPass(inputs, W, b)\n",
        "\n",
        "\n",
        "print('Output Layer Output (Linear)')\n",
        "print('================================')\n",
        "print(o_out, \"\\n\")\n",
        "\n",
        "\"\"\"\n",
        "[[ 22.99999472]\n",
        " [ 25.999994  ]\n",
        " [ 28.99999328]\n",
        " [ 31.99999256]]\n",
        "\"\"\""
      ],
      "execution_count": 2,
      "outputs": [
        {
          "output_type": "stream",
          "text": [
            "Output Layer Output (Linear)\n",
            "================================\n",
            "[[22.99999472]\n",
            " [25.999994  ]\n",
            " [28.99999328]\n",
            " [31.99999256]] \n",
            "\n"
          ],
          "name": "stdout"
        },
        {
          "output_type": "execute_result",
          "data": {
            "application/vnd.google.colaboratory.intrinsic+json": {
              "type": "string"
            },
            "text/plain": [
              "'\\n[[ 22.99999472]\\n [ 25.999994  ]\\n [ 28.99999328]\\n [ 31.99999256]]\\n'"
            ]
          },
          "metadata": {
            "tags": []
          },
          "execution_count": 2
        }
      ]
    }
  ]
}